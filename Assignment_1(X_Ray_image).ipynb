{
  "nbformat": 4,
  "nbformat_minor": 0,
  "metadata": {
    "colab": {
      "provenance": [],
      "gpuType": "T4"
    },
    "kernelspec": {
      "name": "python3",
      "display_name": "Python 3"
    },
    "language_info": {
      "name": "python"
    },
    "accelerator": "GPU"
  },
  "cells": [
    {
      "cell_type": "code",
      "execution_count": null,
      "metadata": {
        "id": "nKK-6u20s287"
      },
      "outputs": [],
      "source": []
    },
    {
      "cell_type": "markdown",
      "source": [
        "Module 1: Mount Google Drive"
      ],
      "metadata": {
        "id": "5Q9xOuz2uWmu"
      }
    },
    {
      "cell_type": "code",
      "source": [
        "from google.colab import drive\n",
        "drive.mount('/content/drive')"
      ],
      "metadata": {
        "colab": {
          "base_uri": "https://localhost:8080/"
        },
        "id": "iPO0EPSos50i",
        "outputId": "5069f8bf-01ad-4264-a4e1-d2e6323dbf5c"
      },
      "execution_count": 1,
      "outputs": [
        {
          "output_type": "stream",
          "name": "stdout",
          "text": [
            "Mounted at /content/drive\n"
          ]
        }
      ]
    },
    {
      "cell_type": "markdown",
      "source": [
        "Module 2: Set Base Path and List Folder Contents"
      ],
      "metadata": {
        "id": "mW-rzS2Zuj-G"
      }
    },
    {
      "cell_type": "code",
      "source": [
        "from google.colab import drive\n",
        "import os\n",
        "\n",
        "# Mount Google Drive\n",
        "drive.mount('/content/gdrive')\n",
        "\n",
        "# Path to the folder in your Google Drive\n",
        "base_path = '/content/gdrive/MyDrive/Archive/'\n",
        "\n",
        "# List the contents of the folder\n",
        "folder_contents = os.listdir(base_path)\n",
        "\n",
        "# Print the contents\n",
        "print(\"Contents of the folder:\")\n",
        "for item in folder_contents:\n",
        "    print(item)\n"
      ],
      "metadata": {
        "colab": {
          "base_uri": "https://localhost:8080/"
        },
        "id": "glYtYZHqt2vq",
        "outputId": "5af48a5c-0f90-41c2-8dfb-1ddfeed38468"
      },
      "execution_count": 2,
      "outputs": [
        {
          "output_type": "stream",
          "name": "stdout",
          "text": [
            "Mounted at /content/gdrive\n",
            "Contents of the folder:\n",
            "test\n",
            "train\n",
            "__MACOSX\n",
            "val\n"
          ]
        }
      ]
    },
    {
      "cell_type": "markdown",
      "source": [
        "Module 3: Load Dataset and Apply Data Augmentation"
      ],
      "metadata": {
        "id": "KrTIclS9unO-"
      }
    },
    {
      "cell_type": "code",
      "source": [
        "from tensorflow.keras.preprocessing.image import ImageDataGenerator\n",
        "\n",
        "# Set image dimensions and batch size\n",
        "img_height = 150\n",
        "img_width = 150\n",
        "batch_size = 32\n",
        "\n",
        "# Create data generators with data augmentation for training\n",
        "train_datagen = ImageDataGenerator(\n",
        "    rescale=1./255,\n",
        "    shear_range=0.2,\n",
        "    zoom_range=0.2,\n",
        "    horizontal_flip=True\n",
        ")\n",
        "\n",
        "# Rescale test and validation images\n",
        "test_datagen = ImageDataGenerator(rescale=1./255)\n",
        "val_datagen = ImageDataGenerator(rescale=1./255)\n",
        "\n",
        "# Flow training images in batches using the generators\n",
        "train_generator = train_datagen.flow_from_directory(\n",
        "    os.path.join(base_path, 'train'),\n",
        "    target_size=(img_height, img_width),\n",
        "    batch_size=batch_size,\n",
        "    class_mode='binary'  # Assuming binary classification (Pneumonia or Normal)\n",
        ")\n",
        "\n",
        "# Flow validation images in batches using the generators\n",
        "val_generator = val_datagen.flow_from_directory(\n",
        "    os.path.join(base_path, 'val'),\n",
        "    target_size=(img_height, img_width),\n",
        "    batch_size=batch_size,\n",
        "    class_mode='binary'\n",
        ")\n",
        "\n",
        "# Flow test images in batches using the generators\n",
        "test_generator = test_datagen.flow_from_directory(\n",
        "    os.path.join(base_path, 'test'),\n",
        "    target_size=(img_height, img_width),\n",
        "    batch_size=batch_size,\n",
        "    class_mode='binary'\n",
        ")"
      ],
      "metadata": {
        "colab": {
          "base_uri": "https://localhost:8080/"
        },
        "id": "g9mrwFsot8OY",
        "outputId": "13c885f4-15fc-4558-8323-894674812f58"
      },
      "execution_count": 3,
      "outputs": [
        {
          "output_type": "stream",
          "name": "stdout",
          "text": [
            "Found 5216 images belonging to 2 classes.\n",
            "Found 16 images belonging to 2 classes.\n",
            "Found 624 images belonging to 2 classes.\n"
          ]
        }
      ]
    },
    {
      "cell_type": "markdown",
      "source": [
        "Module 4: Build the CNN Model"
      ],
      "metadata": {
        "id": "x5ACfK4Auwrg"
      }
    },
    {
      "cell_type": "code",
      "source": [
        "from tensorflow.keras import layers, models\n",
        "\n",
        "# Build the CNN model\n",
        "model = models.Sequential()\n",
        "model.add(layers.Conv2D(32, (3, 3), activation='relu', input_shape=(img_height, img_width, 3)))\n",
        "model.add(layers.MaxPooling2D((2, 2)))\n",
        "model.add(layers.Conv2D(64, (3, 3), activation='relu'))\n",
        "model.add(layers.MaxPooling2D((2, 2)))\n",
        "model.add(layers.Conv2D(128, (3, 3), activation='relu'))\n",
        "model.add(layers.MaxPooling2D((2, 2)))\n",
        "model.add(layers.Flatten())\n",
        "model.add(layers.Dense(128, activation='relu'))\n",
        "model.add(layers.Dense(1, activation='sigmoid'))\n",
        "\n",
        "# Compile the model\n",
        "model.compile(optimizer='adam', loss='binary_crossentropy', metrics=['accuracy'])\n"
      ],
      "metadata": {
        "id": "aD_0TthLuzDX"
      },
      "execution_count": 4,
      "outputs": []
    },
    {
      "cell_type": "markdown",
      "source": [
        "Module 5: Train the CNN Model"
      ],
      "metadata": {
        "id": "aOEYlqOFu15X"
      }
    },
    {
      "cell_type": "code",
      "source": [
        "# Train the model\n",
        "history = model.fit(\n",
        "    train_generator,\n",
        "    steps_per_epoch=len(train_generator),\n",
        "    epochs=10,\n",
        "    validation_data=val_generator,\n",
        "    validation_steps=len(val_generator)\n",
        ")"
      ],
      "metadata": {
        "colab": {
          "base_uri": "https://localhost:8080/"
        },
        "id": "Mvk2hW9du24v",
        "outputId": "ed69fe91-6c38-4d06-f264-4af4bbd10006"
      },
      "execution_count": 5,
      "outputs": [
        {
          "output_type": "stream",
          "name": "stdout",
          "text": [
            "Epoch 1/10\n",
            "163/163 [==============================] - 627s 3s/step - loss: 0.3439 - accuracy: 0.8461 - val_loss: 0.7078 - val_accuracy: 0.7500\n",
            "Epoch 2/10\n",
            "163/163 [==============================] - 90s 553ms/step - loss: 0.2281 - accuracy: 0.9095 - val_loss: 0.6038 - val_accuracy: 0.6875\n",
            "Epoch 3/10\n",
            "163/163 [==============================] - 90s 552ms/step - loss: 0.1980 - accuracy: 0.9239 - val_loss: 0.9565 - val_accuracy: 0.6250\n",
            "Epoch 4/10\n",
            "163/163 [==============================] - 91s 554ms/step - loss: 0.1674 - accuracy: 0.9344 - val_loss: 0.4694 - val_accuracy: 0.6875\n",
            "Epoch 5/10\n",
            "163/163 [==============================] - 90s 548ms/step - loss: 0.1665 - accuracy: 0.9373 - val_loss: 0.4063 - val_accuracy: 0.8750\n",
            "Epoch 6/10\n",
            "163/163 [==============================] - 90s 550ms/step - loss: 0.1522 - accuracy: 0.9427 - val_loss: 0.5662 - val_accuracy: 0.6250\n",
            "Epoch 7/10\n",
            "163/163 [==============================] - 89s 543ms/step - loss: 0.1387 - accuracy: 0.9488 - val_loss: 0.8535 - val_accuracy: 0.6250\n",
            "Epoch 8/10\n",
            "163/163 [==============================] - 90s 553ms/step - loss: 0.1323 - accuracy: 0.9502 - val_loss: 0.3061 - val_accuracy: 0.8750\n",
            "Epoch 9/10\n",
            "163/163 [==============================] - 90s 553ms/step - loss: 0.1146 - accuracy: 0.9546 - val_loss: 0.5172 - val_accuracy: 0.7500\n",
            "Epoch 10/10\n",
            "163/163 [==============================] - 89s 549ms/step - loss: 0.1415 - accuracy: 0.9433 - val_loss: 0.8263 - val_accuracy: 0.6250\n"
          ]
        }
      ]
    },
    {
      "cell_type": "markdown",
      "source": [
        "Module 6: Evaluate the Model"
      ],
      "metadata": {
        "id": "ohZI_8dfu5o5"
      }
    },
    {
      "cell_type": "code",
      "source": [
        "# Evaluate the model on the test set\n",
        "test_loss, test_acc = model.evaluate(test_generator, steps=test_generator.samples // batch_size)\n",
        "print(\"Test Accuracy:\", test_acc)"
      ],
      "metadata": {
        "colab": {
          "base_uri": "https://localhost:8080/"
        },
        "id": "EBFlqIPgu6kx",
        "outputId": "64c55104-8835-4e72-a5cd-90fe39a62068"
      },
      "execution_count": 6,
      "outputs": [
        {
          "output_type": "stream",
          "name": "stdout",
          "text": [
            "19/19 [==============================] - 199s 11s/step - loss: 0.5915 - accuracy: 0.8306\n",
            "Test Accuracy: 0.8305920958518982\n"
          ]
        }
      ]
    },
    {
      "cell_type": "markdown",
      "source": [
        "Module 7: Plot Training and Validation Accuracy"
      ],
      "metadata": {
        "id": "WfS4a_aVu8JZ"
      }
    },
    {
      "cell_type": "code",
      "source": [
        "import matplotlib.pyplot as plt\n",
        "\n",
        "# Plot training and validation accuracy over epochs\n",
        "acc = history.history['accuracy']\n",
        "val_acc = history.history['val_accuracy']\n",
        "epochs = range(1, len(acc) + 1)\n",
        "\n",
        "plt.plot(epochs, acc, 'bo', label='Training Accuracy')\n",
        "plt.plot(epochs, val_acc, 'b', label='Validation Accuracy')\n",
        "plt.title('Training and Validation Accuracy')\n",
        "plt.xlabel('Epochs')\n",
        "plt.ylabel('Accuracy')\n",
        "plt.legend()\n",
        "plt.show()"
      ],
      "metadata": {
        "colab": {
          "base_uri": "https://localhost:8080/",
          "height": 472
        },
        "id": "L9IM9fXPu91v",
        "outputId": "33ebc113-1cee-4b48-a87f-89629b9a2472"
      },
      "execution_count": 7,
      "outputs": [
        {
          "output_type": "display_data",
          "data": {
            "text/plain": [
              "<Figure size 640x480 with 1 Axes>"
            ],
            "image/png": "[encoded data removed]"
          },
          "metadata": {}
        }
      ]
    }
  ]
}